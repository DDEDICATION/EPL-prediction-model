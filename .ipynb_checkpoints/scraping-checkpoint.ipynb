{
 "cells": [
  {
   "cell_type": "code",
   "execution_count": 46,
   "id": "f7b5db63",
   "metadata": {},
   "outputs": [
    {
     "name": "stdout",
     "output_type": "stream",
     "text": [
      "   Rk            Squad  MP  W  D  L  GF  GA  GD  Pts  Pts/MP    xG   xGA  \\\n",
      "0   1          Arsenal  13  9  3  1  27  10  17   30    2.31  22.6  10.3   \n",
      "1   2  Manchester City  13  9  2  2  33  13  20   29    2.23  25.8  11.6   \n",
      "2   3        Liverpool  13  8  4  1  28  11  17   28    2.15  27.1  15.8   \n",
      "3   4      Aston Villa  13  9  1  3  31  18  13   28    2.15  25.3  18.2   \n",
      "4   5        Tottenham  13  8  2  3  25  17   8   26    2.00  21.5  20.3   \n",
      "\n",
      "    xGD  xGD/90     Last 5  Attendance      Top Team Scorer  \\\n",
      "0  12.2    0.94  D W L W W       60130    Eddie Nketiah - 5   \n",
      "1  14.1    1.09  W W W D D       44404  Erling Haaland - 14   \n",
      "2  11.2    0.86  W W D W D       50648   Mohamed Salah - 10   \n",
      "3   7.1    0.54  W W L W W       41378    Ollie Watkins - 7   \n",
      "4   1.2    0.09  W W L L L       61718    Son Heung-min - 8   \n",
      "\n",
      "          Goalkeeper Notes  \n",
      "0         David Raya   NaN  \n",
      "1            Ederson   NaN  \n",
      "2            Alisson   NaN  \n",
      "3  Emiliano Martínez   NaN  \n",
      "4  Guglielmo Vicario   NaN  \n"
     ]
    }
   ],
   "source": [
    "import requests\n",
    "from bs4 import BeautifulSoup\n",
    "import pandas as pd\n",
    "\n",
    "years = list(range(2023, 2020, -1))\n",
    "full_data = []\n",
    "\n",
    "for year in years:\n",
    "    url = \"https://fbref.com/en/comps/9/Premier-League-Stats\"\n",
    "    data = requests.get(url)\n",
    "    soup = BeautifulSoup(data.text)\n",
    "    table = soup.select('table.stats_table')[0]\n",
    "    matches = pd.read_html(data.text, match = \"Regular season\")\n",
    "    # print(matches[0].head())\n",
    "    previous_season = soup.select(\"a.prev\")[0].get(\"href\")\n",
    "    url = f\"https://fbref.com/{previous_season}\"\n",
    "\n"
   ]
  },
  {
   "cell_type": "code",
   "execution_count": null,
   "id": "1a33d8af",
   "metadata": {},
   "outputs": [],
   "source": [
    "links = [l.get(\"href\") for l in table.find_all('a')]\n",
    "links = [l for l in links if 'squads' in l]\n",
    "for link in links:\n",
    "    team_name = link.split('/')[-1].replace('-', ' ').replace('Stats','')\n",
    "#     data = requests.get(f)"
   ]
  }
 ],
 "metadata": {
  "kernelspec": {
   "display_name": "Python 3 (ipykernel)",
   "language": "python",
   "name": "python3"
  },
  "language_info": {
   "codemirror_mode": {
    "name": "ipython",
    "version": 3
   },
   "file_extension": ".py",
   "mimetype": "text/x-python",
   "name": "python",
   "nbconvert_exporter": "python",
   "pygments_lexer": "ipython3",
   "version": "3.10.9"
  }
 },
 "nbformat": 4,
 "nbformat_minor": 5
}
