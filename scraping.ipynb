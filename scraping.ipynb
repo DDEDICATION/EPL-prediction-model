{
 "cells": [
  {
   "cell_type": "code",
   "execution_count": 57,
   "id": "f7b5db63",
   "metadata": {},
   "outputs": [],
   "source": [
    "import requests"
   ]
  },
  {
   "cell_type": "code",
   "execution_count": 58,
   "id": "c4eb7ae1",
   "metadata": {},
   "outputs": [],
   "source": [
    "url = \"https://fbref.com/en/comps/9/Premier-League-Stats\"\n",
    "data = requests.get(url)"
   ]
  },
  {
   "cell_type": "code",
   "execution_count": 59,
   "id": "b06311a9",
   "metadata": {},
   "outputs": [],
   "source": [
    "from bs4 import BeautifulSoup"
   ]
  },
  {
   "cell_type": "code",
   "execution_count": 60,
   "id": "b6436db3",
   "metadata": {},
   "outputs": [],
   "source": [
    "soup = BeautifulSoup(data.text)"
   ]
  },
  {
   "cell_type": "code",
   "execution_count": 64,
   "id": "f2205705",
   "metadata": {},
   "outputs": [],
   "source": [
    "table = soup.select('table.stats_table')[0]"
   ]
  },
  {
   "cell_type": "code",
   "execution_count": 65,
   "id": "4efc212e",
   "metadata": {},
   "outputs": [],
   "source": [
    "links = table.find_all('a')\n",
    "links = [l.get(\"href\") for l in links]"
   ]
  },
  {
   "cell_type": "code",
   "execution_count": 67,
   "id": "c7099064",
   "metadata": {
    "scrolled": true
   },
   "outputs": [
    {
     "data": {
      "text/plain": [
       "['/en/squads/b8fd03ef/Manchester-City-Stats',\n",
       " '/en/squads/822bd0ba/Liverpool-Stats',\n",
       " '/en/squads/18bb7c10/Arsenal-Stats',\n",
       " '/en/squads/361ca564/Tottenham-Hotspur-Stats',\n",
       " '/en/squads/8602292d/Aston-Villa-Stats',\n",
       " '/en/squads/19538871/Manchester-United-Stats',\n",
       " '/en/squads/b2b47a98/Newcastle-United-Stats',\n",
       " '/en/squads/d07537b9/Brighton-and-Hove-Albion-Stats',\n",
       " '/en/squads/7c21e445/West-Ham-United-Stats',\n",
       " '/en/squads/cff3d9bb/Chelsea-Stats',\n",
       " '/en/squads/cd051869/Brentford-Stats',\n",
       " '/en/squads/8cec06e1/Wolverhampton-Wanderers-Stats',\n",
       " '/en/squads/47c64c55/Crystal-Palace-Stats',\n",
       " '/en/squads/d3fd31cc/Everton-Stats',\n",
       " '/en/squads/e4a775cb/Nottingham-Forest-Stats',\n",
       " '/en/squads/fd962109/Fulham-Stats',\n",
       " '/en/squads/4ba7cbea/Bournemouth-Stats',\n",
       " '/en/squads/e297cd13/Luton-Town-Stats',\n",
       " '/en/squads/1df6b87e/Sheffield-United-Stats',\n",
       " '/en/squads/943e8050/Burnley-Stats']"
      ]
     },
     "execution_count": 67,
     "metadata": {},
     "output_type": "execute_result"
    }
   ],
   "source": [
    "links = [l for l in links if '/squads/' in l]\n",
    "links"
   ]
  },
  {
   "cell_type": "code",
   "execution_count": 70,
   "id": "e34e3239",
   "metadata": {},
   "outputs": [
    {
     "data": {
      "text/plain": [
       "['https://fbref.com/en/squads/b8fd03ef/Manchester-City-Stats',\n",
       " 'https://fbref.com/en/squads/822bd0ba/Liverpool-Stats',\n",
       " 'https://fbref.com/en/squads/18bb7c10/Arsenal-Stats',\n",
       " 'https://fbref.com/en/squads/361ca564/Tottenham-Hotspur-Stats',\n",
       " 'https://fbref.com/en/squads/8602292d/Aston-Villa-Stats',\n",
       " 'https://fbref.com/en/squads/19538871/Manchester-United-Stats',\n",
       " 'https://fbref.com/en/squads/b2b47a98/Newcastle-United-Stats',\n",
       " 'https://fbref.com/en/squads/d07537b9/Brighton-and-Hove-Albion-Stats',\n",
       " 'https://fbref.com/en/squads/7c21e445/West-Ham-United-Stats',\n",
       " 'https://fbref.com/en/squads/cff3d9bb/Chelsea-Stats',\n",
       " 'https://fbref.com/en/squads/cd051869/Brentford-Stats',\n",
       " 'https://fbref.com/en/squads/8cec06e1/Wolverhampton-Wanderers-Stats',\n",
       " 'https://fbref.com/en/squads/47c64c55/Crystal-Palace-Stats',\n",
       " 'https://fbref.com/en/squads/d3fd31cc/Everton-Stats',\n",
       " 'https://fbref.com/en/squads/e4a775cb/Nottingham-Forest-Stats',\n",
       " 'https://fbref.com/en/squads/fd962109/Fulham-Stats',\n",
       " 'https://fbref.com/en/squads/4ba7cbea/Bournemouth-Stats',\n",
       " 'https://fbref.com/en/squads/e297cd13/Luton-Town-Stats',\n",
       " 'https://fbref.com/en/squads/1df6b87e/Sheffield-United-Stats',\n",
       " 'https://fbref.com/en/squads/943e8050/Burnley-Stats']"
      ]
     },
     "execution_count": 70,
     "metadata": {},
     "output_type": "execute_result"
    }
   ],
   "source": [
    "team_urls = [f\"https://fbref.com{l}\" for l in links]\n",
    "team_urls"
   ]
  },
  {
   "cell_type": "code",
   "execution_count": null,
   "id": "ac1216c4",
   "metadata": {},
   "outputs": [],
   "source": []
  }
 ],
 "metadata": {
  "kernelspec": {
   "display_name": "Python 3 (ipykernel)",
   "language": "python",
   "name": "python3"
  },
  "language_info": {
   "codemirror_mode": {
    "name": "ipython",
    "version": 3
   },
   "file_extension": ".py",
   "mimetype": "text/x-python",
   "name": "python",
   "nbconvert_exporter": "python",
   "pygments_lexer": "ipython3",
   "version": "3.10.9"
  }
 },
 "nbformat": 4,
 "nbformat_minor": 5
}
