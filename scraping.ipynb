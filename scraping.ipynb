{
 "cells": [
  {
   "cell_type": "code",
   "execution_count": 2,
   "id": "f7b5db63",
   "metadata": {},
   "outputs": [
    {
     "name": "stderr",
     "output_type": "stream",
     "text": [
      "C:\\Users\\david\\AppData\\Local\\Temp\\ipykernel_4760\\4074552763.py:18: FutureWarning: Passing literal html to 'read_html' is deprecated and will be removed in a future version. To read from a literal string, wrap it in a 'StringIO' object.\n",
      "  matches = pd.read_html(data.text, match = \"Regular season\")[0]\n",
      "C:\\Users\\david\\AppData\\Local\\Temp\\ipykernel_4760\\4074552763.py:18: FutureWarning: Passing literal html to 'read_html' is deprecated and will be removed in a future version. To read from a literal string, wrap it in a 'StringIO' object.\n",
      "  matches = pd.read_html(data.text, match = \"Regular season\")[0]\n",
      "C:\\Users\\david\\AppData\\Local\\Temp\\ipykernel_4760\\4074552763.py:18: FutureWarning: Passing literal html to 'read_html' is deprecated and will be removed in a future version. To read from a literal string, wrap it in a 'StringIO' object.\n",
      "  matches = pd.read_html(data.text, match = \"Regular season\")[0]\n"
     ]
    }
   ],
   "source": [
    "import requests\n",
    "from bs4 import BeautifulSoup\n",
    "import pandas as pd\n",
    "import time\n",
    "\n",
    "years = list(range(2023, 2020, -1))\n",
    "full_data = []\n",
    "url = \"https://fbref.com/en/comps/9/Premier-League-Stats\"\n",
    "\n",
    "for year in years:\n",
    "    data = requests.get(url)\n",
    "    soup = BeautifulSoup(data.text)\n",
    "    table = soup.select('table.stats_table')[0]\n",
    "\n",
    "    previous_season = soup.select(\"a.prev\")[0].get(\"href\")\n",
    "    url = f\"https://fbref.com/{previous_season}\"\n",
    "\n",
    "    matches = pd.read_html(data.text, match = \"Regular season\")[0]\n",
    "    \n",
    "    matches[\"Season\"] = year\n",
    "    full_data.append(matches)\n",
    "    time.sleep(1)\n",
    "    \n",
    "match_df = pd.concat(full_data)\n",
    "match_df = match_df.drop(match_df.columns[0], axis = 1)\n",
    "match_df.to_csv(\"ddedication.csv\")\n"
   ]
  },
  {
   "cell_type": "code",
   "execution_count": 2,
   "id": "1a33d8af",
   "metadata": {},
   "outputs": [],
   "source": [
    "links = [l.get(\"href\") for l in table.find_all('a')]\n",
    "links = [l for l in links if 'squads' in l]\n",
    "for link in links:\n",
    "    team_name = link.split('/')[-1].replace('-', ' ').replace('Stats','')\n",
    "#     data = requests.get(f)"
   ]
  }
 ],
 "metadata": {
  "kernelspec": {
   "display_name": "Python 3 (ipykernel)",
   "language": "python",
   "name": "python3"
  },
  "language_info": {
   "codemirror_mode": {
    "name": "ipython",
    "version": 3
   },
   "file_extension": ".py",
   "mimetype": "text/x-python",
   "name": "python",
   "nbconvert_exporter": "python",
   "pygments_lexer": "ipython3",
   "version": "3.10.9"
  }
 },
 "nbformat": 4,
 "nbformat_minor": 5
}
